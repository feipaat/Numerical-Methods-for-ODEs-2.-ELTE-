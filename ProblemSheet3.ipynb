{
 "cells": [
  {
   "cell_type": "markdown",
   "metadata": {},
   "source": [
    "## Problem Sheet #3\n",
    "\n",
    ",,Ny name is Gear.''---,,pardon?\"<br>\n",
    ",,Gear, dshii, ii, ay, are.\"---,,Mr. Jiea?\"<br>\n",
    "(In a hotel of Paris)\n",
    "<br>\n",
    "<br>\n",
    "\n",
    "\n",
    "<div style=\"width:870 px\">\n",
    "<div style=\"float:center\"><a href=\"https://en.wikipedia.org/wiki/C._William_Gear\" target=\"blank\"><img src=\"gear.jpeg\" width=\"187\" title=\"C. William Gear (1935-) Mathematician\"/></a></div> \n",
    "<div style=\"clear:both\"></div></div> "
   ]
  },
  {
   "cell_type": "markdown",
   "metadata": {},
   "source": [
    "<br>\n",
    "<br>\n",
    "\n",
    "## <a href=\"https://en.wikipedia.org/wiki/Backward_differentiation_formula\">Backward differentiation formulas</a> (BDF methods)\n",
    "\n",
    "### Representation of BDF methods\n",
    "\n",
    "$$y_{i+1}=\\sum_{j=1}^ka_jy_{i+1-j}+hb_0f_{i+1}$$\n",
    "Notations:\n",
    "+ $\\#$ of steps $k$\n",
    "+ order $p=k$\n",
    "+ local truncation error $C_{p+1}=\\frac{1}{k+1}$"
   ]
  },
  {
   "cell_type": "markdown",
   "metadata": {},
   "source": [
    "<table>\n",
    "<tr>\n",
    "<td style=\"border-bottom:1px solid; border-top: 1px solid;\">$k$</td>\n",
    "<td style=\"border-bottom:1px solid; border-top: 1px solid;\">$b_0$</td>\n",
    "<td style=\"border-bottom:1px solid; border-top: 1px solid;\">$a_1$</td>\n",
    "<td style=\"border-bottom:1px solid; border-top: 1px solid;\">$a_2$</td>\n",
    "<td style=\"border-bottom:1px solid; border-top: 1px solid;\">$a_3$</td>\n",
    "<td style=\"border-bottom:1px solid; border-top: 1px solid;\">$a_4$</td>\n",
    "<td style=\"border-bottom:1px solid; border-top: 1px solid;\">$a_5$</td>\n",
    "<td style=\"border-bottom:1px solid; border-top: 1px solid;\">$a_6$</td>\n",
    "</tr>\n",
    "<tr>\n",
    "<td>$$1$$</td>\n",
    "<td>$$1$$</td>\n",
    "<td>$$1$$</td>\n",
    "<td></td>\n",
    "<td></td>\n",
    "<td></td>\n",
    "<td></td>\n",
    "<td></td>\n",
    "</tr>\n",
    "<tr>\n",
    "<td>$$2$$</td>\n",
    "<td>$$\\frac{2}{3}$$</td>\n",
    "<td>$$-\\frac{1}{3}$$</td>\n",
    "<td></td>\n",
    "<td></td>\n",
    "<td></td>\n",
    "<td></td>\n",
    "<td></td>\n",
    "</tr>\n",
    "<tr>\n",
    "<td>$$3$$</td>\n",
    "<td>$$\\frac{6}{11}$$</td>\n",
    "<td>$$\\frac{18}{11}$$</td>\n",
    "<td>$$-\\frac{9}{11}$$</td>\n",
    "<td>$$\\frac{2}{11}$$</td><td></td>\n",
    "<td></td>\n",
    "<td></td>\n",
    "</tr>\n",
    "<tr>\n",
    "<td>$$4$$</td>\n",
    "<td>$$\\frac{12}{25}$$</td>\n",
    "<td>$$\\frac{48}{25}$$</td>\n",
    "<td>$$-\\frac{36}{25}$$</td>\n",
    "<td>$$\\frac{16}{25}$$</td>\n",
    "<td>$$-\\frac{3}{25}$$</td>\n",
    "<td></td>\n",
    "<td></td>\n",
    "</tr>\n",
    "<tr>\n",
    "<td>$$5$$</td>\n",
    "<td>$$\\frac{60}{137}$$</td>\n",
    "<td>$$\\frac{300}{137}$$</td>\n",
    "<td>$$-\\frac{300}{137}$$</td>\n",
    "<td>$$\\frac{200}{137}$$</td>\n",
    "<td>$$-\\frac{75}{137}$$</td>\n",
    "<td>$$\\frac{12}{137}$$</td>\n",
    "<td></td>\n",
    "</tr>\n",
    "<tr>\n",
    "<td style=\"border-bottom:1px solid;\">$$6$$</td>\n",
    "<td style=\"border-bottom:1px solid;\">$$\\frac{60}{147}$$</td>\n",
    "<td style=\"border-bottom:1px solid;\">$$\\frac{360}{147}$$</td>\n",
    "<td style=\"border-bottom:1px solid;\">$$-\\frac{450}{147}$$</td>\n",
    "<td style=\"border-bottom:1px solid;\">$$\\frac{400}{147}$$</td>\n",
    "<td style=\"border-bottom:1px solid;\">$$-\\frac{225}{147}$$</td>\n",
    "<td style=\"border-bottom:1px solid;\">$$\\frac{72}{147}$$</td>\n",
    "<td style=\"border-bottom:1px solid;\">$$-\\frac{10}{147}$$</td>\n",
    "</table>"
   ]
  },
  {
   "cell_type": "markdown",
   "metadata": {},
   "source": [
    "<b>Problem 1.</b> Determine the BDF methods for $k=1,2,3$ based on the formula\n",
    "$$\\sum_{j=1}^k\\frac{1}{j}\\nabla^jy_{n+1}=hf_{n+1}$$\n",
    "<br>\n",
    "\n",
    "<b>Problem 2.</b> Write a code which determines the coefficients of the $k$-step BDF method."
   ]
  },
  {
   "cell_type": "code",
   "execution_count": 1,
   "metadata": {},
   "outputs": [
    {
     "name": "stdout",
     "output_type": "stream",
     "text": [
      "ans =        11/6         -3        3/2       -1/3\n"
     ]
    }
   ],
   "source": [
    "BDFcoefficients(3)"
   ]
  },
  {
   "cell_type": "markdown",
   "metadata": {},
   "source": [
    "### $A$-, $A(\\alpha)$- and $L$-stability\n",
    "<br>\n",
    "\n",
    "<b>Problem 3.</b> [Extra] Write a code which calculate the $A(\\alpha)$ stability angle $\\alpha$ for BDF1-6 methods.\n",
    "<br><br>"
   ]
  },
  {
   "cell_type": "markdown",
   "metadata": {},
   "source": [
    "<table>\n",
    "<tr>\n",
    "<td style=\"border-bottom:1px solid; border-right:1px solid; border-top: 1px solid;\">$k$</td>\n",
    "<td style=\"border-bottom:1px solid; border-top: 1px solid;\">1</td>\n",
    "<td style=\"border-bottom:1px solid; border-top: 1px solid;\">2</td>\n",
    "<td style=\"border-bottom:1px solid; border-top: 1px solid;\">3</td>\n",
    "<td style=\"border-bottom:1px solid; border-top: 1px solid;\">4</td>\n",
    "<td style=\"border-bottom:1px solid; border-top: 1px solid;\">5</td>\n",
    "<td style=\"border-bottom:1px solid; border-top: 1px solid;\">6</td>\n",
    "</tr>\n",
    "<tr>\n",
    "<td style=\"border-bottom:1px solid;border-right:1px solid;\">$$\\alpha$$</td>\n",
    "<td style=\"border-bottom:1px solid;\">90&#176;</td>\n",
    "<td style=\"border-bottom:1px solid;\">90&#176;</td>\n",
    "<td style=\"border-bottom:1px solid;\">86.03&#176;</td>\n",
    "<td style=\"border-bottom:1px solid;\">73.35&#176;</td>\n",
    "<td style=\"border-bottom:1px solid;\">51.84&#176;</td>\n",
    "<td style=\"border-bottom:1px solid;\">17.84&#176;</td>\n",
    "</table>"
   ]
  },
  {
   "cell_type": "code",
   "execution_count": 2,
   "metadata": {},
   "outputs": [
    {
     "data": {
      "image/png": "[encoded data removed]",
      "text/plain": [
       "<IPython.core.display.Image object>"
      ]
     },
     "metadata": {},
     "output_type": "display_data"
    }
   ],
   "source": [
    "LW = 'LineWidth'; lw = 1;\n",
    "clr = [221 221 221]/255;\n",
    "% Defining the unit circle\n",
    "N = 1000;\n",
    "theta = linspace(0,2*pi,N);\n",
    "xi = exp(1i*theta);\n",
    "\n",
    "% The characteristic polynomial for \\pi(xi)=0\n",
    "BDF1=@(xi)(1-1./xi);\n",
    "BDF2=@(xi)(3*xi.^2-4*xi+1)./(2*xi.^2);\n",
    "BDF3=@(xi)(11*xi.^3-18*xi.^2+9*xi-2)./(6*xi.^3);\n",
    "BDF4=@(xi)(25*xi.^4-48*xi.^3+36*xi.^2-16*xi+3)./(12*xi.^4);\n",
    "BDF5=@(xi)(137*xi.^5-300*xi.^4+300*xi.^3-200*xi.^2+75*xi+-12)./(60*xi.^5);\n",
    "BDF6=@(xi)(147*xi.^6-360*xi.^5+450*xi.^4-400*xi.^3+225*xi.^2-72*xi+10)./(60*xi.^6);\n",
    "z1=BDF1(xi);\n",
    "z2=BDF2(xi);\n",
    "z3=BDF3(xi);\n",
    "z4=BDF4(xi);\n",
    "z5=BDF5(xi);\n",
    "z6=BDF6(xi);\n",
    "plot(z1,'k-',LW,lw), hold on\n",
    "plot(z2,'k-',LW,lw), \n",
    "plot(z3,'k-',LW,lw), \n",
    "plot(z4,'k-',LW,lw), \n",
    "plot(z5,'k-',LW,lw), \n",
    "plot(z6,'k-',LW,lw), \n",
    "%fill(real(z),imag(z),clr)\n",
    "%plot([min(real(z)) max(real(z))],[0 0],'b--',LW,lw)\n",
    "%plot([0 0],[min(imag(z)) max(imag(z))],'b--',LW,lw)\n",
    "axis tight, axis equal, hold off\n",
    "title('Stability regions of BDF1-6 methods')"
   ]
  },
  {
   "cell_type": "markdown",
   "metadata": {},
   "source": [
    "<br>\n",
    "<b>Problem 4.</b> Let us consider the system\n",
    "<br>\n",
    "<br>\n",
    "\n",
    "<center>\n",
    "\n",
    "$u'(t)=\\left[ \\begin{array}{cc}\n",
    "-2 & 1 \\\\ 998 & -999\n",
    "\\end{array} \\right]u(t)+\\left[ \\begin{array}{c}\n",
    "2\\sin(t) \\\\  999[\\cos(t)-\\sin(t)]\n",
    "\\end{array} \\right]$, \n",
    "$\\quad u(0)$=$\\left( \\begin{array}{c}\n",
    "0 \\\\\n",
    "0\n",
    "\\end{array} \\right)$\n",
    "</center>\n",
    "\n",
    "The solution of this system is\n",
    "\n",
    "<center>\n",
    "\n",
    "$u(t)=-\\frac{1}{999}\\exp(-t)\\left( \\begin{array}{c}\n",
    "1 \\\\\n",
    "1\n",
    "\\end{array} \\right)+\\frac{1}{999}\\exp(-1000t)\\left( \\begin{array}{c}\n",
    "1 \\\\\n",
    "-998\n",
    "\\end{array} \\right)+\\left( \\begin{array}{c}\n",
    "\\sin(t) \\\\\n",
    "\\cos(t)\n",
    "\\end{array} \\right)$\n",
    "</center>\n",
    "<br>\n",
    "\n",
    "Apply the Implicit Euler method and Trapezoidal rule to this system. Make a plot about the numerical and analytical solution. Based on that explain the meaning of $L$-stability."
   ]
  },
  {
   "cell_type": "code",
   "execution_count": 4,
   "metadata": {},
   "outputs": [
    {
     "data": {
      "image/png": "[encoded data removed]",
      "text/plain": [
       "<IPython.core.display.Image object>"
      ]
     },
     "metadata": {},
     "output_type": "display_data"
    }
   ],
   "source": [
    "[h,t,yIE,yTr]=Lstabilityexample(0,3,[0,0],30);\n",
    "exact=-1/999*exp(-t)-998/999*exp(-1000*t)+cos(t);\n",
    "plot(t,yIE(2,:),'g+',t,yTr(2,:),'m--',t,cos(t),'r')\n",
    "legend('IE','Tr','Exact')"
   ]
  },
  {
   "cell_type": "markdown",
   "metadata": {},
   "source": [
    "<br>\n",
    "### Implementation of BDF methods\n",
    "<br>\n",
    "\n",
    "<b>Problem 5.</b> Let us consider the following IVP\n",
    "\n",
    "\\begin{cases}\n",
    "u'(t)= u(t)+t&\\\\\n",
    "u(0)=2, &\n",
    "\\end{cases}\n",
    "\n",
    "where $t\\in [0,1]$. Apply the BDF2 method and estimate from a fine-grid solution the order of convergence in  maximum norm."
   ]
  },
  {
   "cell_type": "code",
   "execution_count": 5,
   "metadata": {},
   "outputs": [
    {
     "name": "stdout",
     "output_type": "stream",
     "text": [
      "order_max =\n",
      "\n",
      "   1.9969   1.9994\n",
      "\n"
     ]
    }
   ],
   "source": [
    "%% BDF2 fine-grid solution maximum norm\n",
    "\n",
    "[h,t,y]=BDF2(0,1,2,2^14);\n",
    "%Fill out\n",
    "order_max\n"
   ]
  },
  {
   "cell_type": "markdown",
   "metadata": {},
   "source": [
    "<br>\n",
    "\n",
    "<b>Problem 6.</b> Let us consider Problem 6. from Problem Sheet $\\# 2$.\n",
    "<br><br>\n",
    "\n",
    "Apply the BDF4 method to this problem. Investigate the displacement of each mass in the first 5 seconds for $N=100$ and make an informative plot. What is the main difference of this method from Adams-Moulton and Milne-Simpson predictor-corrector typte methods? Estimate from a fine-grid solution the order of convergence in 2-norm."
   ]
  },
  {
   "cell_type": "code",
   "execution_count": 6,
   "metadata": {},
   "outputs": [
    {
     "data": {
      "image/png": "[encoded data removed]",
      "text/plain": [
       "<IPython.core.display.Image object>"
      ]
     },
     "metadata": {},
     "output_type": "display_data"
    }
   ],
   "source": [
    "[h,t,y]=BDF4sys(0,5,[0.5 0 0.25 0],100);\n",
    "r1=10; r2=15;\n",
    "plot(t, -(r1+y(1,:)), '-'); hold on\n",
    "plot(t, -(r2+y(3,:)), '-.'); grid on\n",
    "plot([0 3], [0 0]); hold off"
   ]
  },
  {
   "cell_type": "code",
   "execution_count": 1,
   "metadata": {},
   "outputs": [
    {
     "name": "stdout",
     "output_type": "stream",
     "text": [
      "order_comp_1 =\n",
      "\n",
      "   3.9916   3.9736   3.9864\n",
      "\n",
      "order_comp_2 =\n",
      "\n",
      "   3.9672   3.9649   3.9835\n",
      "\n",
      "order_comp_3 =\n",
      "\n",
      "   3.9926   3.9744   3.9868\n",
      "\n",
      "order_comp_4 =\n",
      "\n",
      "   3.9668   3.9648   3.9834\n",
      "\n",
      "order =\n",
      "\n",
      "   3.9864   3.9835   3.9868   3.9834\n",
      "\n",
      "ans =  3.9834\n"
     ]
    }
   ],
   "source": [
    "%% BDF4 fine-grid solution 2-norm\n",
    "[h,t,y]=BDF4sys(0,3,[0.5 0 0.25 0],2^16);\n",
    "finesol=y;\n",
    "N=2^6;\n",
    "for i=1:4\n",
    "    [h,t,y]=BDF4sys(0,3,[0.5 0 0.25 0],N*2^(i-1));\n",
    "    exact_1=finesol(1,1:2^(11-i):2^16+1);\n",
    "    exact_2=finesol(2,1:2^(11-i):2^16+1);\n",
    "    exact_3=finesol(3,1:2^(11-i):2^16+1);\n",
    "    exact_4=finesol(4,1:2^(11-i):2^16+1);\n",
    "    stepsize(i)=h;\n",
    "    norm_comp_1(i)=(stepsize(i)*sum((abs(exact_1-y(1,:))).^2))^(1/2);\n",
    "    norm_comp_2(i)=(stepsize(i)*sum((abs(exact_2-y(2,:))).^2))^(1/2);\n",
    "    norm_comp_3(i)=(stepsize(i)*sum((abs(exact_3-y(3,:))).^2))^(1/2);\n",
    "    norm_comp_4(i)=(stepsize(i)*sum((abs(exact_4-y(4,:))).^2))^(1/2);\n",
    "end\n",
    "\n",
    "for i=1:length(norm_comp_1)-1\n",
    "    order_comp_1(i)=log2(norm_comp_1(i)/norm_comp_1(i+1));\n",
    "    order_comp_2(i)=log2(norm_comp_2(i)/norm_comp_2(i+1));\n",
    "    order_comp_3(i)=log2(norm_comp_3(i)/norm_comp_3(i+1));\n",
    "    order_comp_4(i)=log2(norm_comp_4(i)/norm_comp_4(i+1));\n",
    "end\n",
    "order_comp_1 % Estimate for order of convergence in the first component\n",
    "order_comp_2 \n",
    "order_comp_3\n",
    "order_comp_4\n",
    "order=[order_comp_1(end) order_comp_2(end) order_comp_3(end) order_comp_4(end)]\n",
    "min(order) % Option giving a final answer"
   ]
  },
  {
   "cell_type": "markdown",
   "metadata": {},
   "source": [
    "<br>\n",
    "<br>\n",
    "\n",
    "### Explicit Gear methods\n",
    "\n",
    "$$y_{i+1}=\\sum_{j=1}^ka_jy_{i-j}+hb_1f_{i}$$"
   ]
  },
  {
   "cell_type": "markdown",
   "metadata": {},
   "source": [
    "<table>\n",
    "<tr>\n",
    "<td style=\"border-bottom:1px solid; border-top: 1px solid;\">$k$</td>\n",
    "<td style=\"border-bottom:1px solid; border-top: 1px solid;\">$b_1$</td>\n",
    "<td style=\"border-bottom:1px solid; border-top: 1px solid;\">$a_1$</td>\n",
    "<td style=\"border-bottom:1px solid; border-top: 1px solid;\">$a_2$</td>\n",
    "<td style=\"border-bottom:1px solid; border-top: 1px solid;\">$a_3$</td>\n",
    "<td style=\"border-bottom:1px solid; border-top: 1px solid;\">$a_4$</td>\n",
    "<td style=\"border-bottom:1px solid; border-top: 1px solid;\">$a_5$</td>\n",
    "<td style=\"border-bottom:1px solid; border-top: 1px solid;\">$a_6$</td>\n",
    "</tr>\n",
    "<tr>\n",
    "<td>$$1$$</td>\n",
    "<td>$$1$$</td>\n",
    "<td>$$1$$</td>\n",
    "<td></td>\n",
    "<td></td>\n",
    "<td></td>\n",
    "<td></td>\n",
    "<td></td>\n",
    "</tr>\n",
    "<tr>\n",
    "<td>$$2$$</td>\n",
    "<td>$$2$$</td>\n",
    "<td>$$0$$</td>\n",
    "<td>$$1$$</td>\n",
    "<td></td>\n",
    "<td></td>\n",
    "<td></td>\n",
    "<td></td>\n",
    "</tr>\n",
    "<tr>\n",
    "<td>$$3$$</td>\n",
    "<td>$$3$$</td>\n",
    "<td>$$-\\frac{3}{2}$$</td>\n",
    "<td>$$\\frac{6}{2}$$</td>\n",
    "<td>$$-\\frac{1}{2}$$</td><td></td>\n",
    "<td></td>\n",
    "<td></td>\n",
    "</tr>\n",
    "<tr>\n",
    "<td>$$4$$</td>\n",
    "<td>$$4$$</td>\n",
    "<td>$$-\\frac{10}{3}$$</td>\n",
    "<td>$$\\frac{18}{3}$$</td>\n",
    "<td>$$-\\frac{6}{3}$$</td>\n",
    "<td>$$\\frac{1}{3}$$</td>\n",
    "<td></td>\n",
    "<td></td>\n",
    "</tr>\n",
    "<tr>\n",
    "<td>$$5$$</td>\n",
    "<td>$$5$$</td>\n",
    "<td>$$-\\frac{65}{12}$$</td>\n",
    "<td>$$\\frac{120}{12}$$</td>\n",
    "<td>$$-\\frac{60}{12}$$</td>\n",
    "<td>$$\\frac{20}{12}$$</td>\n",
    "<td>$$-\\frac{3}{12}$$</td>\n",
    "<td></td>\n",
    "</tr>\n",
    "<tr>\n",
    "<td style=\"border-bottom:1px solid;\">$$6$$</td>\n",
    "<td style=\"border-bottom:1px solid;\">$$6$$</td>\n",
    "<td style=\"border-bottom:1px solid;\">$$-\\frac{77}{10}$$</td>\n",
    "<td style=\"border-bottom:1px solid;\">$$\\frac{150}{10}$$</td>\n",
    "<td style=\"border-bottom:1px solid;\">$$-\\frac{100}{10}$$</td>\n",
    "<td style=\"border-bottom:1px solid;\">$$\\frac{50}{10}$$</td>\n",
    "<td style=\"border-bottom:1px solid;\">$$-\\frac{15}{10}$$</td>\n",
    "<td style=\"border-bottom:1px solid;\">$$\\frac{2}{10}$$</td>\n",
    "</table>"
   ]
  },
  {
   "cell_type": "markdown",
   "metadata": {},
   "source": [
    "<br>\n",
    "<br>\n",
    "The implementation is similar to the AB methods. In practice we use rarely since high-order explicit Gear methods have very limited stability regions."
   ]
  }
 ],
 "metadata": {
  "kernelspec": {
   "display_name": "Octave",
   "language": "octave",
   "name": "octave"
  },
  "language_info": {
   "file_extension": ".m",
   "help_links": [
    {
     "text": "GNU Octave",
     "url": "https://www.gnu.org/software/octave/support.html"
    },
    {
     "text": "Octave Kernel",
     "url": "https://github.com/Calysto/octave_kernel"
    },
    {
     "text": "MetaKernel Magics",
     "url": "https://github.com/calysto/metakernel/blob/master/metakernel/magics/README.md"
    }
   ],
   "mimetype": "text/x-octave",
   "name": "octave",
   "version": "4.2.2"
  }
 },
 "nbformat": 4,
 "nbformat_minor": 1
}
