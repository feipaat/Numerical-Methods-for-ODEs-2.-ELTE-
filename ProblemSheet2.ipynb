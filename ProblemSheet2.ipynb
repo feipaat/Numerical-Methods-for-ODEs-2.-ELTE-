{
 "cells": [
  {
   "cell_type": "markdown",
   "metadata": {},
   "source": [
    "## Problem Sheet #2\n",
    "\n",
    "## Adams methods\n",
    "\n",
    ",,... and my undertaking must have ended here, if I had depended upon my own resources. But at this point Professor J.C. Adams furnished me with a perfectly satisfactory method of calculating by quadratures the exact theoretical forms of drops of fluids from the Differential Equation of Laplace,...''<br>\n",
    "(F. Bashforth, 1883)\n",
    "<br>\n",
    "<br>\n",
    "\n",
    "\n",
    "<div style=\"width:870 px\">\n",
    "<div style=\"float:left\"><a href=\"https://en.wikipedia.org/wiki/Francis_Bashforth\" target=\"blank\"><img src=\"bashforth.jpg\" width=\"187\" title=\"Francis Bashforth (1819-1912) Applied mathematician\"/></a></div> \n",
    "<div style=\"float:left\"><a href=\"https://hu.wikipedia.org/wiki/John_Couch_Adams\" target=\"blank\"><img src=\"JCAdams.jpg\" width=\"200\" title=\"John Couch Adams (1819-1892) Mathematician and astronomer\"/></a></div>\n",
    "<div style=\"float:left\"><a href=\"https://en.wikipedia.org/wiki/Forest_Ray_Moulton\" target=\"blank\"><img src=\"Moulton.jpeg\" width=\"209\" title=\"Forest Ray Moulton (1872-1952)  Astronomer\"/></div>\n",
    "<div style=\"clear:both\"></div></div> \n",
    "\n",
    "\n"
   ]
  },
  {
   "cell_type": "markdown",
   "metadata": {},
   "source": [
    "<br>\n",
    "<br>\n",
    "\n",
    "### Adams-Bashforth methods (AB methods)\n",
    "\n",
    "$$y_{i+1}=y_i+h\\sum_{j=1}^kb_j\\ f_{i-j+1}$$\n",
    "Notations:\n",
    "+ $\\#$ of steps $k$\n",
    "+ order $p=k$\n",
    "+ local truncation error $C_{p+1}h^{p+1}f^{(p)(\\xi)}$"
   ]
  },
  {
   "cell_type": "markdown",
   "metadata": {},
   "source": [
    "<table>\n",
    "<tr>\n",
    "<td style=\"border-bottom:1px solid; border-top: 1px solid;\">$p_{}$</td>\n",
    "<td style=\"border-bottom:1px solid; border-top: 1px solid;\">$k_{}$</td>\n",
    "<td style=\"border-bottom:1px solid; border-top: 1px solid;\">$b_1$</td>\n",
    "<td style=\"border-bottom:1px solid; border-top: 1px solid;\">$b_2$</td>\n",
    "<td style=\"border-bottom:1px solid; border-top: 1px solid;\">$b_3$</td>\n",
    "<td style=\"border-bottom:1px solid; border-top: 1px solid;\">$b_4$</td>\n",
    "<td style=\"border-bottom:1px solid; border-top: 1px solid;\">$b_5$</td>\n",
    "<td style=\"border-bottom:1px solid; border-top: 1px solid;\">$b_6$</td>\n",
    "<td style=\"border-bottom:1px solid; border-top: 1px solid;\">$C_{p+1}$</td>\n",
    "</tr>\n",
    "<tr>\n",
    "<td>$$2$$</td>\n",
    "<td>$$2$$</td>\n",
    "<td>$$\\frac{3}{2}$$</td>\n",
    "<td>$$-\\frac{1}{2}$$</td>\n",
    "<td></td>\n",
    "<td></td>\n",
    "<td></td>\n",
    "<td></td>\n",
    "<td>$$\\frac{5}{12}$$</td>\n",
    "</tr>\n",
    "<tr>\n",
    "<td>$$3$$</td>\n",
    "<td>$$3$$</td>\n",
    "<td>$$\\frac{23}{12}$$</td>\n",
    "<td>$$-\\frac{16}{12}$$</td>\n",
    "<td>$$\\frac{5}{12}$$</td>\n",
    "<td></td>\n",
    "<td></td>\n",
    "<td></td>\n",
    "<td>$$\\frac{3}{8}$$</td>\n",
    "</tr>\n",
    "<tr>\n",
    "<td>$$4$$</td>\n",
    "<td>$$4$$</td>\n",
    "<td>$$\\frac{55}{24}$$</td>\n",
    "<td>$$-\\frac{59}{24}$$</td>\n",
    "<td>$$\\frac{37}{24}$$</td>\n",
    "<td>$$-\\frac{9}{24}$$</td>\n",
    "<td></td>\n",
    "<td></td>\n",
    "<td>$$\\frac{251}{720}$$</td>\n",
    "</tr>\n",
    "<tr>\n",
    "<td>$$5$$</td>\n",
    "<td>$$5$$</td>\n",
    "<td>$$\\frac{1901}{720}$$</td>\n",
    "<td>$$-\\frac{2774}{720}$$</td>\n",
    "<td>$$\\frac{2616}{720}$$</td>\n",
    "<td>$$-\\frac{1274}{720}$$</td>\n",
    "<td>$$\\frac{251}{720}$$</td>\n",
    "<td></td>\n",
    "<td>$$\\frac{95}{288}$$</td>\n",
    "</tr>\n",
    "<tr>\n",
    "<td style=\"border-bottom:1px solid;\">$$6$$</td>\n",
    "<td style=\"border-bottom:1px solid;\">$$6$$</td>\n",
    "<td style=\"border-bottom:1px solid;\">$$\\frac{4277}{1440}$$</td>\n",
    "<td style=\"border-bottom:1px solid;\">$$-\\frac{7923}{1440}$$</td>\n",
    "<td style=\"border-bottom:1px solid;\">$$\\frac{9982}{1440}$$</td>\n",
    "<td style=\"border-bottom:1px solid;\">$$-\\frac{7298}{1440}$$</td>\n",
    "<td style=\"border-bottom:1px solid;\">$$\\frac{2877}{1440}$$</td>\n",
    "<td style=\"border-bottom:1px solid;\">$$-\\frac{475}{1440}$$</td>\n",
    "<td style=\"border-bottom:1px solid;\">$$\\frac{19087}{60480}$$</td>\n",
    "</tr>\n",
    "</table>"
   ]
  },
  {
   "cell_type": "markdown",
   "metadata": {},
   "source": [
    "<b>Problem 1.</b> Let us consider the IVP\n",
    "\n",
    "\\begin{cases}\n",
    "u'(t)= u(t)+t&\\\\\n",
    "u(0)=2, &\n",
    "\\end{cases}\n",
    "\n",
    "where $t\\in [0,1]$. Write a code for AB3 method and the appropriate starting values should be calculated by\n",
    "<br>\n",
    "\n",
    "(a) an RK3 method<br>\n",
    "(b) the Explicit Euler method <br>\n",
    "(c) an RK2 method <br>\n",
    "\n",
    "Estimate the order of convergence in maximum norm from\n",
    "<br>\n",
    "+ the analytical solution\n",
    "+ a fine-grid solution\n",
    "<br><br>\n",
    "\n",
    "What can we experience?"
   ]
  },
  {
   "cell_type": "code",
   "execution_count": 3,
   "metadata": {},
   "outputs": [
    {
     "name": "stdout",
     "output_type": "stream",
     "text": [
      "order_max =\n",
      "\n",
      "   2.7067   2.8638   2.9340   2.9675   2.9838   2.9919\n",
      "\n"
     ]
    }
   ],
   "source": [
    "%% RK3 with analytical solution\n",
    "clear all\n",
    "N=8;\n",
    "for i=1:7\n",
    "    [h,t,y]=AB3(0,1,2,N*2^(i-1));\n",
    "    exact=3*exp(t)-t-1;\n",
    "    norm_max(i)=norm(exact-y,'inf');\n",
    "end\n",
    "for i=1:length(norm_max)-1\n",
    "    order_max(i)=log2(norm_max(i)/norm_max(i+1));\n",
    "end\n",
    "order_max"
   ]
  },
  {
   "cell_type": "code",
   "execution_count": 10,
   "metadata": {},
   "outputs": [
    {
     "name": "stdout",
     "output_type": "stream",
     "text": [
      "order_max =\n",
      "\n",
      "   2.9839   2.9920   2.9963   3.0001\n",
      "\n"
     ]
    }
   ],
   "source": [
    "%% RK3 with fine-grid solution\n",
    "\n",
    "% Fill out"
   ]
  },
  {
   "cell_type": "code",
   "execution_count": 11,
   "metadata": {},
   "outputs": [
    {
     "name": "stdout",
     "output_type": "stream",
     "text": [
      "order_max =\n",
      "\n",
      "   1.9647   1.9857   1.9936   1.9970   1.9985   1.9993\n",
      "\n"
     ]
    }
   ],
   "source": [
    "%% EE with analytical solution\n"
   ]
  },
  {
   "cell_type": "code",
   "execution_count": 12,
   "metadata": {},
   "outputs": [
    {
     "name": "stdout",
     "output_type": "stream",
     "text": [
      "order_max =\n",
      "\n",
      "   1.9988   2.0003   2.0039   2.0169\n",
      "\n"
     ]
    }
   ],
   "source": [
    "%% EE with fine-grid solution\n"
   ]
  },
  {
   "cell_type": "code",
   "execution_count": 13,
   "metadata": {},
   "outputs": [
    {
     "name": "stdout",
     "output_type": "stream",
     "text": [
      "order_max =\n",
      "\n",
      "   2.8176   2.9107   2.9557   2.9779   2.9890   2.9945\n",
      "\n"
     ]
    }
   ],
   "source": [
    "%% RK2 with analytical solution\n"
   ]
  },
  {
   "cell_type": "code",
   "execution_count": 14,
   "metadata": {},
   "outputs": [
    {
     "name": "stdout",
     "output_type": "stream",
     "text": [
      "order_max =\n",
      "\n",
      "   2.9890   2.9945   2.9975   3.0010\n",
      "\n"
     ]
    }
   ],
   "source": [
    "%% RK2 with fine-grid solution\n"
   ]
  },
  {
   "cell_type": "markdown",
   "metadata": {},
   "source": [
    "<br>\n",
    "\n",
    "<b>Problem 2.</b> Let us consider the following simplified pendulum prblem\n",
    "\n",
    "\\begin{cases}\n",
    "u''(t)=-0.3u'(t)-sin(u(t))&\\\\\n",
    "u(0)=\\pi/2&\\\\\n",
    "u'(0)=0&\n",
    "\\end{cases}\n",
    "\n",
    "where $t\\in [0,15]$.  Write the problem as a first order system. Apply the AB3 method with RK3 to this system. Plot the numerical solution. Estimate from a fine-grid solution the order of convergence in 2-norm."
   ]
  },
  {
   "cell_type": "code",
   "execution_count": 16,
   "metadata": {},
   "outputs": [
    {
     "data": {
      "image/png": "[encoded data removed]",
      "text/plain": [
       "<IPython.core.display.Image object>"
      ]
     },
     "metadata": {},
     "output_type": "display_data"
    }
   ],
   "source": [
    "[h,t,y]=AB3sys(0,15,[pi/2; 0],1000);\n",
    "plot(t,y(1,:),t,y(2,:),'r-')\n",
    "legend('first component','second component')"
   ]
  },
  {
   "cell_type": "code",
   "execution_count": 19,
   "metadata": {},
   "outputs": [
    {
     "name": "stdout",
     "output_type": "stream",
     "text": [
      "order_comp_1 =\n",
      "\n",
      "   3.0100   3.0156\n",
      "\n",
      "order_comp_2 =\n",
      "\n",
      "   3.0083   3.0141\n",
      "\n",
      "ans =  3.0100\n",
      "ans =  3.0141\n"
     ]
    }
   ],
   "source": [
    "%% 2-norm; fine-grid solution\n",
    "\n",
    "%% Fill out based on what we've learned in the previous coarse\n",
    "\n",
    "order_comp_1 % Estimate for order of convergence in the first component\n",
    "order_comp_2 % Estimate for order of convergence in the second component\n",
    "min(max(order_comp_1, order_comp_2)) % An option giving a final answer\n",
    "min(order_comp_1(end), order_comp_2(end)) % Another option giving a final answer\n"
   ]
  },
  {
   "cell_type": "markdown",
   "metadata": {},
   "source": [
    "<br>\n",
    "\n",
    "<b>Problem 3.</b> [Assignment] Solve Problem 2. by using the AB4 method with RK2, RK3 and RK4 starters. Estimate from a fine-grid solution the order of convergence in 2-norm. Make an informative table about your results.\n",
    "<br>"
   ]
  },
  {
   "cell_type": "code",
   "execution_count": null,
   "metadata": {
    "collapsed": true
   },
   "outputs": [],
   "source": []
  },
  {
   "cell_type": "markdown",
   "metadata": {},
   "source": [
    "<br>\n",
    "<br>\n",
    "\n",
    "### Adams-Moulton (AM) and <a href=\"https://en.wikipedia.org/wiki/Predictor%E2%80%93corrector_method\">Predictor-corrector</a> methods\n",
    "\n",
    "$$y_{i+1}=y_i+h\\sum_{j=0}^kb_j\\ f_{i-j+1}$$\n",
    "Notations:\n",
    "+ $\\#$ of steps $k$\n",
    "+ order $p=k+1$\n",
    "+ local truncation error $C_{p+1}h^{p+1}f^{(p)(\\xi)}$\n"
   ]
  },
  {
   "cell_type": "markdown",
   "metadata": {},
   "source": [
    "<table>\n",
    "<tr>\n",
    "<td style=\"border-bottom:1px solid; border-top: 1px solid;\">$p_{}$</td>\n",
    "<td style=\"border-bottom:1px solid; border-top: 1px solid;\">$k_{}$</td>\n",
    "<td style=\"border-bottom:1px solid; border-top: 1px solid;\">$b_0$</td>\n",
    "<td style=\"border-bottom:1px solid; border-top: 1px solid;\">$b_1$</td>\n",
    "<td style=\"border-bottom:1px solid; border-top: 1px solid;\">$b_2$</td>\n",
    "<td style=\"border-bottom:1px solid; border-top: 1px solid;\">$b_3$</td>\n",
    "<td style=\"border-bottom:1px solid; border-top: 1px solid;\">$b_4$</td>\n",
    "<td style=\"border-bottom:1px solid; border-top: 1px solid;\">$b_5$</td>\n",
    "<td style=\"border-bottom:1px solid; border-top: 1px solid;\">$C_{p+1}$</td>\n",
    "</tr>\n",
    "<tr>\n",
    "<td>$$2$$</td>\n",
    "<td>$$1$$</td>\n",
    "<td>$$\\frac{1}{2}$$</td>\n",
    "<td>$$\\frac{1}{2}$$</td>\n",
    "<td></td>\n",
    "<td></td>\n",
    "<td></td>\n",
    "<td></td>\n",
    "<td>$$-\\frac{1}{12}$$</td>\n",
    "</tr>\n",
    "<tr>\n",
    "<td>$$3$$</td>\n",
    "<td>$$2$$</td>\n",
    "<td>$$\\frac{5}{12}$$</td>\n",
    "<td>$$\\frac{8}{12}$$</td>\n",
    "<td>$$-\\frac{1}{12}$$</td>\n",
    "<td></td>\n",
    "<td></td>\n",
    "<td></td>\n",
    "<td>$$-\\frac{1}{24}$$</td>\n",
    "</tr>\n",
    "<tr>\n",
    "<td>$$4$$</td>\n",
    "<td>$$3$$</td>\n",
    "<td>$$\\frac{9}{24}$$</td>\n",
    "<td>$$\\frac{19}{24}$$</td>\n",
    "<td>$$-\\frac{5}{24}$$</td>\n",
    "<td>$$\\frac{1}{24}$$</td>\n",
    "<td></td>\n",
    "<td></td>\n",
    "<td>$$-\\frac{19}{720}$$</td>\n",
    "</tr>\n",
    "<tr>\n",
    "<td>$$5$$</td>\n",
    "<td>$$4$$</td>\n",
    "<td>$$\\frac{251}{720}$$</td>\n",
    "<td>$$\\frac{646}{720}$$</td>\n",
    "<td>$$-\\frac{264}{720}$$</td>\n",
    "<td>$$\\frac{106}{720}$$</td>\n",
    "<td>$$-\\frac{19}{720}$$</td>\n",
    "<td></td>\n",
    "<td>$$-\\frac{3}{160}$$</td>\n",
    "</tr>\n",
    "<tr>\n",
    "<td style=\"border-bottom:1px solid;\">$$6$$</td>\n",
    "<td style=\"border-bottom:1px solid;\">$$5$$</td>\n",
    "<td style=\"border-bottom:1px solid;\">$$\\frac{475}{1440}$$</td>\n",
    "<td style=\"border-bottom:1px solid;\">$$\\frac{1427}{1440}$$</td>\n",
    "<td style=\"border-bottom:1px solid;\">$$-\\frac{798}{1440}$$</td>\n",
    "<td style=\"border-bottom:1px solid;\">$$\\frac{482}{1440}$$</td>\n",
    "<td style=\"border-bottom:1px solid;\">$$-\\frac{173}{1440}$$</td>\n",
    "<td style=\"border-bottom:1px solid;\">$$\\frac{27}{1440}$$</td>\n",
    "<td style=\"border-bottom:1px solid;\">$$-\\frac{863}{60480}$$</td>\n",
    "</tr>\n",
    "</table>"
   ]
  },
  {
   "cell_type": "markdown",
   "metadata": {},
   "source": [
    "<br>\n",
    "<b>Problem 4.</b> Let us condider the IVP in Problem 1. Write a code for AM3 predictor-corrector method starting with EE/RK3 and AB3 methods.<br>\n",
    "\n",
    "Estimate the order of convergence in maximum norm from \n",
    "<br>\n",
    "+ the analytical solution\n",
    "+ a fine-grid solution \n",
    "\n",
    "<br>"
   ]
  },
  {
   "cell_type": "code",
   "execution_count": 1,
   "metadata": {},
   "outputs": [
    {
     "name": "stdout",
     "output_type": "stream",
     "text": [
      "order_max =\n",
      "\n",
      "   2.3685   2.7572   2.8912   2.9483   2.9748   2.9875\n",
      "\n"
     ]
    }
   ],
   "source": [
    "%% RK3 analytical solution\n",
    "\n",
    "N=8;\n",
    "for i=1:7\n",
    "    [h,t,y]=AM3(0,1,2,N*2^(i-1));\n",
    "    exact=3*exp(t)-t-1;\n",
    "    norm_max(i)=norm(exact-y,'inf');\n",
    "end\n",
    "\n",
    "for i=1:length(norm_max)-1\n",
    "    order_max(i)=log2(norm_max(i)/norm_max(i+1));\n",
    "end\n",
    "order_max"
   ]
  },
  {
   "cell_type": "code",
   "execution_count": 2,
   "metadata": {},
   "outputs": [
    {
     "name": "stdout",
     "output_type": "stream",
     "text": [
      "order_max =\n",
      "\n",
      "   2.9748   2.9876\n",
      "\n"
     ]
    }
   ],
   "source": [
    "%% RK3 fine-grid solution\n",
    "\n",
    "clear all\n",
    "[h,t,y]=AM3(0,1,2,2^14);\n",
    "%Fill out\n",
    "for i=1:length(norma2)-1\n",
    "    order_max(i)=log2(norma2(i)/norma2(i+1));\n",
    "end\n",
    "order_max"
   ]
  },
  {
   "cell_type": "code",
   "execution_count": 2,
   "metadata": {},
   "outputs": [
    {
     "name": "stdout",
     "output_type": "stream",
     "text": [
      "order_max =\n",
      "\n",
      "   1.9370   1.9691   1.9848   1.9924   1.9962   1.9981\n",
      "\n"
     ]
    }
   ],
   "source": [
    "%% EE analytical solution "
   ]
  },
  {
   "cell_type": "code",
   "execution_count": 3,
   "metadata": {},
   "outputs": [
    {
     "name": "stdout",
     "output_type": "stream",
     "text": [
      "order_max =\n",
      "\n",
      "   1.9965   1.9992\n",
      "\n"
     ]
    }
   ],
   "source": [
    "%% EE fine-grid solution\n"
   ]
  },
  {
   "cell_type": "markdown",
   "metadata": {},
   "source": [
    "<br>\n",
    "\n",
    "<b>Problem 5.</b> Let us condider the IVP in Problem 2. Write a code for AM3 predictor-corrector method starting with RK3 and AB3 methods. Estimate from a fine-grid solution the order of convergence in 2-norm."
   ]
  },
  {
   "cell_type": "code",
   "execution_count": 6,
   "metadata": {},
   "outputs": [
    {
     "name": "stdout",
     "output_type": "stream",
     "text": [
      "order_comp_1 =\n",
      "\n",
      "   3.2416   3.1456   3.0769\n",
      "\n",
      "order_comp_2 =\n",
      "\n",
      "   3.2352   3.1405   3.0734\n",
      "\n",
      "ans =  3.0769\n",
      "ans =  3.0734\n"
     ]
    }
   ],
   "source": [
    "%% System case, AM3/RK3/AB3 with fine-grid solution in 2-norm\n",
    "\n",
    "[h,t,y]=AM3sys(0,15,[pi/2; 0],2^16);\n",
    "finesol=y;\n",
    "\n",
    "N=2^6;\n",
    "for i=1:4\n",
    "    [h,t,y]=AM3sys(0,15,[pi/2; 0],N*2^(i-1));\n",
    "    exact_1=finesol(1,1:2^(11-i):2^16+1);\n",
    "    exact_2=finesol(2,1:2^(11-i):2^16+1);\n",
    "    stepsize(i)=h;\n",
    "    norm_comp_1(i)=(stepsize(i)*sum((abs(exact_1-y(1,:))).^2))^(1/2);\n",
    "    norm_comp_2(i)=(stepsize(i)*sum((abs(exact_2-y(2,:))).^2))^(1/2);\n",
    "end\n",
    "\n",
    "for i=1:length(norm_comp_2)-1\n",
    "    order_comp_1(i)=log2(norm_comp_1(i)/norm_comp_1(i+1));\n",
    "    order_comp_2(i)=log2(norm_comp_2(i)/norm_comp_2(i+1));\n",
    "\n",
    "end\n",
    "\n",
    "order_comp_1 % Estimate for order of convergence in the first component\n",
    "order_comp_2 % Estimate for order of convergence in the second component\n",
    "min(max(order_comp_1, order_comp_2)) % An option giving a final answer\n",
    "min(order_comp_1(end), order_comp_2(end)) % Another option giving a final answer\n"
   ]
  },
  {
   "cell_type": "markdown",
   "metadata": {},
   "source": [
    "<br>\n",
    "### <a href=\"http://mathfaculty.fullerton.edu/mathews/n2003/MilneSimpsonMod.html\">Milne-Simpson predictor-corrector method</a>\n",
    "<br><br>\n",
    "\n",
    "<b>Problem 6.</b> [Extra] The vertical displacements of two masses $m_1$ and $m_2$ suspended in series by springs with spring constants $s_1$ and $s_2$ are given by <a href=\"https://en.wikipedia.org/wiki/Hooke%27s_law\">Hooke's law</a>. The displacements are $x_1$ and $x_2$. The model is \n",
    "\n",
    "$$\n",
    "m_1x_1^{\"}=-s_1x_1+s_2(x_2-x_1)\\\\\n",
    "m_2x_2^{\"}=-s_2(x_2-x_1)\n",
    "$$\n",
    "\n",
    "Rewriting as a first order system we have\n",
    "$$\n",
    "u_1^{'}=u_2\\\\\n",
    "u_2^{'}=-\\frac{s_1}{m_1}u_1+\\frac{s_2}{m_1}(u_3-u_1)\\\\\n",
    "u_3^{'}=u_4\\\\\n",
    "u_4^{'}=-\\frac{s_2}{m_2}(u_3-u_1)\n",
    "$$\n",
    "where the corresponding initial values are\n",
    "\n",
    "$$u_1(0)=\\alpha_1,\\quad u_2(0)=\\alpha_2,\\quad u_3(0)=\\alpha_3,\\quad u_4(0)=\\alpha_4$$\n",
    "<br>\n",
    "\n",
    "For the sake of simplicity let us choose the parameters as $m_1=10$kg, $m_2=2$kg, $s_1=100$, $s_2=120$, $\\alpha_1=0.5$, $\\alpha_2=0$, $\\alpha_3=0.25$ and $\\alpha_4=0$. The displacement of each mass is measured from its equilibrium position with positive direction downward. Make a meaningful plot which includes both deflection and legth. Here the parameters are $r_1=10$ and $r_2=15$.<br><br>\n",
    "\n",
    "Apply the Milne-Simpson predictor-corrector method to this problem.\n",
    "$$\n",
    "yP_{i+1}=y_{i-3}+\\frac{4}{3}h(2f_i-f_{i-1}+2f_{i-2})\\\\\n",
    "yC_{i+1}=y_{i-1}+\\frac{1}{3}h(f_{i+1}+4f_{i}+f_{i-1})\n",
    "$$\n",
    "\n",
    "Investigate the displacement of each mass in the first 5 seconds and make an informative plot. Estimate from a fine-grid solution the order of convergence in 2-norm.\n"
   ]
  },
  {
   "cell_type": "code",
   "execution_count": 7,
   "metadata": {},
   "outputs": [
    {
     "data": {
      "image/png": "[encoded data removed]",
      "text/plain": [
       "<IPython.core.display.Image object>"
      ]
     },
     "metadata": {},
     "output_type": "display_data"
    }
   ],
   "source": [
    "% Plot"
   ]
  },
  {
   "cell_type": "code",
   "execution_count": 15,
   "metadata": {},
   "outputs": [
    {
     "name": "stdout",
     "output_type": "stream",
     "text": [
      "order_comp_1 =\n",
      "\n",
      "   4.9190   4.1751   4.0472   4.0101   4.0018\n",
      "\n",
      "order_comp_2 =\n",
      "\n",
      "   4.7187   4.2053   4.0621   4.0160   4.0042\n",
      "\n",
      "order_comp_3 =\n",
      "\n",
      "   4.9188   4.1730   4.0459   4.0094   4.0014\n",
      "\n",
      "order_comp_4 =\n",
      "\n",
      "   4.7187   4.2053   4.0621   4.0160   4.0041\n",
      "\n",
      "ans =  4.0014\n"
     ]
    }
   ],
   "source": [
    "%% System case, with RK4 in 2-norm\n"
   ]
  }
 ],
 "metadata": {
  "kernelspec": {
   "display_name": "Octave",
   "language": "octave",
   "name": "octave"
  },
  "language_info": {
   "file_extension": ".m",
   "help_links": [
    {
     "text": "GNU Octave",
     "url": "https://www.gnu.org/software/octave/support.html"
    },
    {
     "text": "Octave Kernel",
     "url": "https://github.com/Calysto/octave_kernel"
    },
    {
     "text": "MetaKernel Magics",
     "url": "https://github.com/calysto/metakernel/blob/master/metakernel/magics/README.md"
    }
   ],
   "mimetype": "text/x-octave",
   "name": "octave",
   "version": "4.2.2"
  }
 },
 "nbformat": 4,
 "nbformat_minor": 1
}
