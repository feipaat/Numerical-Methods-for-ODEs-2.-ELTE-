{
 "cells": [
  {
   "cell_type": "markdown",
   "metadata": {},
   "source": [
    "# Numerical methods for ODEs 1.\n",
    "<br>\n",
    "<br>\n",
    "## Imre Fekete\n",
    "### Department of Applied Analysis and Computational Mathematics\n",
    "### Eötvös Loránd University\n",
    "<img src=\"cimer2.jpg\" width=\"400\">\n",
    "<br>\n",
    "<br>\n",
    "<br>\n",
    "<br>\n",
    "\n",
    "### Literature:\n",
    "<br>\n",
    "#### Lecture Notes (Eötvös Loránd University)\n",
    "+ <a href=\"http://tankonyvtar.ttk.bme.hu/authorlistp.jsp?bookId=77\"> István Faragó: Numerical Methods for Ordinary Differential Equations</a>\n",
    "<br><br>\n",
    "\n",
    "The previously recommended literature plus \n",
    "\n",
    "+ <a href=\"https://bookstore.siam.org/CL13\"> Ascher, Mattheij, Russell: Numerical Solution of BVPs for ODEs </a>\n",
    "<br><br>\n"
   ]
  },
  {
   "cell_type": "markdown",
   "metadata": {},
   "source": [
    "## Problem Sheet #1\n",
    "<br>\n",
    "\n",
    "## <a href=\"https://en.wikipedia.org/wiki/Linear_multistep_method\">Linear multistep methods</a> (LMMs)\n",
    "<center> <i>\"You know, I am a multistep man ... and don't tell anybody, but the first program I wrote for the first Swedish computer was a Runge-Kutta code...\"</i><br>\n",
    "(G. Dahlquist, 1982)\n",
    "<br>\n",
    "<div style=\"width:870 px\">\n",
    "<div style=\"float:center\"><a href=\"https://en.wikipedia.org/wiki/Germund_Dahlquist\" target=\"blank\"><img src=\"dahlquist.jpg\" width=\"127\" title=\"Germund Dahlquist (1925-2005) Matematikus\"/></a></div> \n",
    "<div style=\"clear:both\"></div></div> "
   ]
  },
  {
   "cell_type": "markdown",
   "metadata": {},
   "source": [
    "<br>\n",
    "<br>\n",
    "<br>\n",
    "\n",
    "\n",
    "### Consistency\n",
    "<br>\n",
    "\n",
    "<b>Problem 1.</b> Determine the order of consistency based on Taylor-expansion for the following two-step method<br> \n",
    "\n",
    "$$y_n-\\frac{4}{3}y_{n-1}+\\frac{1}{3}y_{n-2}=\\frac{2}{3}hf_n.$$ <br>\n",
    "\n",
    "<b>Problem 2.</b> Determine the coefficients $a_1,\\ a_2,\\ b_1,\\ b_2$ of the two-step method\n",
    "\n",
    "$$y_n+a_1y_{n-1}+a_2y_{n-2}=h(b_1f_{n-1}+b_2f_{n-2})$$\n",
    "\n",
    "such that the method's order of consistency will be as high as possible.\n",
    "<br>\n"
   ]
  },
  {
   "cell_type": "code",
   "execution_count": 2,
   "metadata": {},
   "outputs": [
    {
     "name": "stdout",
     "output_type": "stream",
     "text": [
      "ans =\n",
      "\n",
      "   4.00000000000001\n",
      "  -5.00000000000001\n",
      "   4.00000000000001\n",
      "   2.00000000000001\n",
      "\n"
     ]
    }
   ],
   "source": [
    "A=[1 1 0 0; 1 2 1 1; 1 4 2 4; 1 8 3 12];\n",
    "b=[-1 0 0 0]';\n",
    "A\\b"
   ]
  },
  {
   "cell_type": "markdown",
   "metadata": {},
   "source": [
    "<b> Problem 3.</b> [Assignment] Write a code which determines the order of consistency of any LMMs."
   ]
  },
  {
   "cell_type": "code",
   "execution_count": 5,
   "metadata": {},
   "outputs": [
    {
     "name": "stdout",
     "output_type": "stream",
     "text": [
      "The order of consistency is 4.\n"
     ]
    }
   ],
   "source": [
    "a =[1 -48/25 36/25 -16/25 3/25]; b=[12/25 0 0 0 0]; %BDF4 Example 1 (4th order)\n",
    "%a=[1 4 -5]; b=[0 4 2]; % Example 2 (3rd order)\n",
    "LMMorder(a,b)\n",
    "\n",
    "% Remark\n",
    "%syms k x % MATLAB package\n",
    "%S1 = symsum(k^2, k, 0, 10)"
   ]
  },
  {
   "cell_type": "markdown",
   "metadata": {},
   "source": [
    "### 0-stable (zero-stable), strongly and weakly stable LMMs\n",
    "<br>\n",
    "\n",
    "<b>Problem 4.</b> Solve the IVP\n",
    "\n",
    "\\begin{cases}\n",
    "u'(t)= -u(t),\\ \\ \\ t\\in[0,1]&\\\\\n",
    "u(0)=1 &\n",
    "\\end{cases}\n",
    "\n",
    "with the two-step method $y_n-4y_{n-1}+3y_{n-2}=-2hf_{n-2}$ in case of $h=1/10$. Using this method we need two starting values which should determine from the analytical solution. Check how the global error changes in absolute value in every step and make a plot. Is it a convergent method?"
   ]
  },
  {
   "cell_type": "code",
   "execution_count": 10,
   "metadata": {},
   "outputs": [
    {
     "name": "stdout",
     "output_type": "stream",
     "text": [
      "ans =\n",
      "\n",
      " Columns 1 through 3:\n",
      "\n",
      "    0.000000000000000    0.000000000000000    0.000618919065856\n",
      "\n",
      " Columns 4 through 6:\n",
      "\n",
      "    0.003035697392949    0.010916544260280    0.035624730861978\n",
      "\n",
      " Columns 7 through 9:\n",
      "\n",
      "    0.112347473375844    0.350016040479161    1.085830906449422\n",
      "\n",
      " Columns 10 and 11:\n",
      "\n",
      "    3.363586058568381   10.414295794477873\n",
      "\n"
     ]
    },
    {
     "data": {
      "image/png": "[encoded data removed]",
      "text/plain": [
       "<IPython.core.display.Image object>"
      ]
     },
     "metadata": {},
     "output_type": "display_data"
    }
   ],
   "source": [
    "t=linspace(0,1,11);h=1/10;\n",
    "y(1)=1; y(2)=exp(-h);\n",
    "for i=3:11\n",
    "    y(i)=4*y(i-1)-(3-2*h)*y(i-2);\n",
    "end\n",
    "y;\n",
    "exp(-t);\n",
    "abs(y-exp(-t))\n",
    "plot(t,abs(y-exp(-t)))\n",
    "title('Error in absolute value')"
   ]
  },
  {
   "cell_type": "markdown",
   "metadata": {},
   "source": [
    "<br>\n",
    "\n",
    "<b>Problem 5.</b> [Assignment] Write a code which decides whether the LMM is strongly or weakly stable.<br><br>\n",
    "\n",
    "Test your code on the following LMMs.<br><br>\n",
    "\n",
    "(a) $y_n+4y_{n-1}-5y_{n-2}=h(4f_{n-1}+2f_{n-2})$<br>\n",
    "(b) $y_n-y_{n-2}=\\frac{h}{2}(f_n+4f_{n-1}+f_{n-2})$<br>\n",
    "(c) $y_n-\\frac{4}{3}y_{n-1}+\\frac{1}{3}y_{n-2}=\\frac{2}{3}hf_n$"
   ]
  },
  {
   "cell_type": "code",
   "execution_count": 28,
   "metadata": {},
   "outputs": [
    {
     "name": "stdout",
     "output_type": "stream",
     "text": [
      "the_roots =\n",
      "\n",
      "   1.000000000000000\n",
      "   0.333333333333333\n",
      "\n",
      "The LMM is strongly stable.\n"
     ]
    }
   ],
   "source": [
    "format long\n",
    "a=[1 4 -5];\n",
    "b=[1 0 1/2];\n",
    "c=[1 -4/3 1/3];\n",
    "d=[1 -1/2 1 1/2]; %Additional interesting case #1\n",
    "e=[1 -1 1 -1]; %Additional interesting case #2\n",
    "f=[1 0 -1]; %Additional interesting case #2\n",
    "strongweakstability(c);"
   ]
  },
  {
   "cell_type": "code",
   "execution_count": 31,
   "metadata": {},
   "outputs": [
    {
     "name": "stdout",
     "output_type": "stream",
     "text": [
      "the_roots =\n",
      "\n",
      "   1.000000000000001 + 0.000000000000000i\n",
      "   0.000000000000001 + 1.000000000000000i\n",
      "   0.000000000000001 - 1.000000000000000i\n",
      "\n",
      "The LMM is neither strongly nor weakly stable.\n",
      "the_roots =\n",
      "\n",
      "  -1\n",
      "   1\n",
      "\n",
      "The LMM is weakly stable.\n"
     ]
    }
   ],
   "source": [
    "strongweakstability(e);\n",
    "strongweakstability(f);"
   ]
  },
  {
   "cell_type": "markdown",
   "metadata": {},
   "source": [
    "<br>\n",
    "<b>Problem 6.</b> Prove that the Adams methods are strongly stable LMMs.\n",
    "<br>\n",
    "<br><br>\n",
    "\n",
    "### Absolute stability regions, first and second Dahlquist barriers\n",
    "<br>\n",
    "<center>\n",
    "<i>\"I didn’t like all these “strong”, “perfect”, “absolute”,\n",
    "“generalized”, “super”, “hyper”, “complete” and so on\n",
    "in mathematical definitions, I wanted something neutral;\n",
    "and having been impressed by David Young’s “property\n",
    "A”, I chose the term “A-stable”.\"</i><br>\n",
    "(G. Dahlquist, 1979)\n",
    "</center>\n",
    "<br>\n",
    "<br>\n",
    "<u>Theorem (First Dahlquist Barrier)</u>. For a zero-stable $k$-step LMM the order of convergence is\n",
    "\n",
    "+ $p\\leq k+2$, if $k$ even (implicit)<br>\n",
    "+ $p\\leq k+1$, if $k$ odd (implicit)<br>\n",
    "+ $p\\leq k$, if $\\beta_k / \\alpha_k\\leq 0$ (explicit)<br>\n",
    "<br>\n",
    "<br>\n",
    "<center>\n",
    "<i>\"I searched for a long time, finally Professor Lax showed me the\n",
    "Riesz-Herglotz theorem and I knew that I had my theorem.\"</i><br>\n",
    "(G. Dahlquist 1979)\n",
    "</center>\n",
    "<br>\n",
    "<br>\n",
    "\n",
    "<u>Theorem (Second Dahlquist Barrier)</u>. If the LMM is A-stable, then $\\text{Re}\\big(\\frac{\\rho(\\xi)}{\\sigma(\\xi)}\\big)>0$ for all $|\\xi|>1$. For irreduible methods A-stability follows.<br>\n",
    "\n",
    "<u>Theorem (Second Dahlquist Barrier)</u>. For an A-stable LMM we have $p\\leq 2$. If $p=2$, then the estimate for its error constant is $C\\leq -1/12$. The trapezoidal rule has the smallest error constant (C=-1/12) amongst the A-stable LMMs of order 2.\n",
    "<br>"
   ]
  },
  {
   "cell_type": "markdown",
   "metadata": {},
   "source": [
    "<br>\n",
    "<b>Problem 7.</b> Determine the characteristic polynomial $\\pi(\\xi)$ and plot the corresponding absolute stability region of the following Adams and BDF LMMs.\n",
    "\n",
    "<br>\n",
    "(a) AB2 $y_{n+1}=y_n+h\\left(\\frac{3}{2}f_{n}-\\frac{1}{2}f_{n-1}\\right)$ <br>\n",
    "(b) AB4 $y_{n+1}=y_{n}+h\\left(\\frac{55}{24}f_{n}-\\frac{59}{24}f_{n-1}+\\frac{37}{24}f_{n-2}-\\frac{9}{24}f_{n-3}\\right)$ <br>\n",
    "(c) AM3 $y_{n+1}=y_{n}+h\\left(\\frac{5}{12}f_{n+1}+\\frac{8}{12}f_{n}-\\frac{1}{12}f_{n-1}\\right)$ <br>\n",
    "(d) AM5 $y_{n+1}=y_{n}+h\\left(\\frac{251}{720}f_{n+1}+\\frac{646}{720}f_{n}-\\frac{264}{720}f_{n-1}+\\frac{106}{720}f_{n-2}-\\frac{19}{720}f_{n-3}\\right)$ <br>\n",
    "(e) BDF2 $y_{n+1}=\\frac{4}{3}y_{n}-\\frac{1}{3}y_{n-1}+\\frac{2}{3}hf_{n+1}$ <br>\n",
    "(f) BDF3 $y_{n+1}=\\frac{18}{11}y_{n}-\\frac{9}{11}y_{n-1}+\\frac{2}{11}y_{n-2}+\\frac{6}{11}hf_{n+1}$ <br>"
   ]
  },
  {
   "cell_type": "code",
   "execution_count": 4,
   "metadata": {},
   "outputs": [
    {
     "data": {
      "image/png": "[encoded data removed]",
      "text/plain": [
       "<IPython.core.display.Image object>"
      ]
     },
     "metadata": {},
     "output_type": "display_data"
    }
   ],
   "source": [
    "LW = 'LineWidth'; lw = 1;\n",
    "clr = [221 221 221]/255;\n",
    "% Defining the unit circle\n",
    "N = 1000;\n",
    "theta = linspace(0,2*pi,N);\n",
    "xi = exp(1i*theta);\n",
    "\n",
    "% The characteristic polynomial for \\pi(xi)=0\n",
    "%f = @(xi)(2*xi.^2-2*xi)./(3*xi-1); % AB2\n",
    "%f=@(xi)(12*(xi.^3-xi.^2))./(23*xi.^2-16*xi+5); %AB3\n",
    "f=@(xi) 24*(xi.^4-xi.^3)./(55*xi.^3 - 59*xi.^2 + 37*xi - 9); %AB4 %%fill(real(z(real(z)<=0)),imag(z(real(z)<=0)),clr)\n",
    "%f=@(xi)(12*(xi.^2-xi))./(5*xi.^2+8*xi-1); %AM3\n",
    "%f=@(xi)(12*(xi.^2-xi))./(5*xi.^2+8*xi-1); %AM5\n",
    "%f=@(xi)(3*xi.^2-4*xi+1)./(2*xi.^2); %BDF2\n",
    "%f=@(xi)(11*xi.^3-18*xi.^2+9*xi-2)./(6*xi.^3); %BDF3\n",
    "\n",
    "% Plot\n",
    "z = f(xi);\n",
    "plot(z,'k-',LW,lw), hold on\n",
    "%fill(real(z),imag(z),clr)\n",
    "plot([min(real(z)) max(real(z))],[0 0],'b--',LW,lw)\n",
    "plot([0 0],[min(imag(z)) max(imag(z))],'b--',LW,lw)\n",
    "axis tight, axis equal, hold off"
   ]
  },
  {
   "cell_type": "code",
   "execution_count": 10,
   "metadata": {},
   "outputs": [
    {
     "name": "stdout",
     "output_type": "stream",
     "text": [
      "AB4 =\n",
      "\n",
      " Columns 1 through 3:\n",
      "\n",
      "   1.00000 + 0.00000i  -1.57292 + 1.83333i   0.61458 - 1.96667i\n",
      "\n",
      " Columns 4 and 5:\n",
      "\n",
      "  -0.38542 + 1.23333i   0.09375 - 0.30000i\n",
      "\n",
      "ans =\n",
      "\n",
      "   0.26209 - 1.36166i\n",
      "   0.71910 - 0.89789i\n",
      "   0.21860 + 0.47567i\n",
      "   0.37314 - 0.04945i\n",
      "\n",
      "ans =\n",
      "\n",
      "   1.38665\n",
      "   1.15035\n",
      "   0.52349\n",
      "   0.37640\n",
      "\n"
     ]
    }
   ],
   "source": [
    "z=0.25-0.8i;\n",
    "AB4=[1 (-1-z*55/24) z*59/24 -z*37/24 z*9/24]\n",
    "roots(AB4)\n",
    "abs(roots(AB4))"
   ]
  },
  {
   "cell_type": "code",
   "execution_count": 34,
   "metadata": {
    "scrolled": true
   },
   "outputs": [
    {
     "name": "stdout",
     "output_type": "stream",
     "text": [
      "BDF3 =\n",
      "\n",
      " Columns 1 through 3:\n",
      "\n",
      "   17.0000 +  4.8000i  -18.0000 +  0.0000i    9.0000 +  0.0000i\n",
      "\n",
      " Column 4:\n",
      "\n",
      "   -2.0000 +  0.0000i\n",
      "\n",
      "ans =\n",
      "\n",
      "   0.33781 - 0.53889i\n",
      "   0.39884 - 0.09665i\n",
      "   0.24399 + 0.35865i\n",
      "\n",
      "ans =\n",
      "\n",
      "   0.63602\n",
      "   0.41038\n",
      "   0.43378\n",
      "\n"
     ]
    }
   ],
   "source": [
    "z=-1-0.8i;\n",
    "BDF3=[(11-z*6) -18 9 -2]\n",
    "roots(BDF3)\n",
    "abs(roots(BDF3))"
   ]
  }
 ],
 "metadata": {
  "kernelspec": {
   "display_name": "Octave",
   "language": "octave",
   "name": "octave"
  },
  "language_info": {
   "file_extension": ".m",
   "help_links": [
    {
     "text": "GNU Octave",
     "url": "https://www.gnu.org/software/octave/support.html"
    },
    {
     "text": "Octave Kernel",
     "url": "https://github.com/Calysto/octave_kernel"
    },
    {
     "text": "MetaKernel Magics",
     "url": "https://github.com/calysto/metakernel/blob/master/metakernel/magics/README.md"
    }
   ],
   "mimetype": "text/x-octave",
   "name": "octave",
   "version": "4.2.2"
  }
 },
 "nbformat": 4,
 "nbformat_minor": 1
}
