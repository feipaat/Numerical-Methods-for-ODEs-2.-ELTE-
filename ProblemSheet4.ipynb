{
 "cells": [
  {
   "cell_type": "markdown",
   "metadata": {},
   "source": [
    "## Problem Sheet #4"
   ]
  },
  {
   "cell_type": "markdown",
   "metadata": {},
   "source": [
    "<a href=\"http://www.cs.ubc.ca/~ascher/\" target=\"blank\"><img src=\"ascher.jpg\" width=\"187\" title=\"U. M. Ascher (1946-) Mathematician\"/></a>\n"
   ]
  },
  {
   "cell_type": "markdown",
   "metadata": {},
   "source": [
    "## <a href=\"https://en.wikipedia.org/wiki/Boundary_value_problem\">Boundary value problem</a>"
   ]
  },
  {
   "cell_type": "markdown",
   "metadata": {},
   "source": [
    "### Theoretical foundations and issues of solvability\n",
    "<br>\n",
    "\n",
    "<b>Problem 1.</b> Investigate the boundary value problem (BVP)\n",
    "\\begin{cases}\n",
    "u''(x)= -u(x),\\ \\ \\ x\\in(a,b)&\\\\\n",
    "u(a)=\\alpha,\\ u(b)=\\beta&\n",
    "\\end{cases}\n",
    "\n",
    "in terms of solvability.\n",
    "<br><br>\n",
    "\n",
    "(a) $(a,b)=(0,\\Pi/2),\\ \\alpha=3,\\ \\beta=7$<br>\n",
    "(b) $(a,b)=(0,\\Pi),\\ \\alpha=3,\\ \\beta=7$\n",
    "<br><br>\n"
   ]
  },
  {
   "cell_type": "markdown",
   "metadata": {},
   "source": [
    "<b>Problem 2.</b> Write as a first system the following BVPs.\n",
    "\n",
    "(a)\n",
    "\\begin{cases}\n",
    "u''(x)= u(x),\\ \\ \\ x\\in(a,b)&\\\\\n",
    "u(a)=\\alpha,\\ u(b)=\\beta&\n",
    "\\end{cases}\n",
    "\n",
    "(b)\n",
    "\\begin{cases}\n",
    "u'''(x)=-2\\lambda^3u(x)+\\lambda^2u'(x)+2\\lambda u''(x),\\ \\ \\ x\\in(0,1)&\\\\\n",
    "u(0)=\\beta_1,\\ u(1)=\\beta_2,\\ u'(1)=\\beta_3&\n",
    "\\end{cases}\n",
    "<br><br>\n",
    "\n",
    "<b>Problem 3.</b> Investigate the following BVPs in terms of solvability.\n",
    "\n",
    "(a)\n",
    "\\begin{cases}\n",
    "u''(x)= -u(x),\\ \\ \\ x\\in(0,b)&\\\\\n",
    "u(0)=\\alpha,\\ u(b)=\\beta &\n",
    "\\end{cases}\n",
    "\n",
    "(b)\n",
    "\\begin{cases}\n",
    "u''(x)= u(x),\\ \\ \\ x\\in(0,b)&\\\\\n",
    "u(0)=\\alpha,\\ u(b)=\\beta &\n",
    "\\end{cases}\n"
   ]
  }
 ],
 "metadata": {
  "kernelspec": {
   "display_name": "Octave",
   "language": "octave",
   "name": "octave"
  },
  "language_info": {
   "file_extension": ".m",
   "help_links": [
    {
     "text": "GNU Octave",
     "url": "https://www.gnu.org/software/octave/support.html"
    },
    {
     "text": "Octave Kernel",
     "url": "https://github.com/Calysto/octave_kernel"
    },
    {
     "text": "MetaKernel Magics",
     "url": "https://github.com/calysto/metakernel/blob/master/metakernel/magics/README.md"
    }
   ],
   "mimetype": "text/x-octave",
   "name": "octave",
   "version": "4.2.2"
  }
 },
 "nbformat": 4,
 "nbformat_minor": 1
}
